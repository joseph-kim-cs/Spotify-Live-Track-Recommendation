{
 "cells": [
  {
   "cell_type": "markdown",
   "metadata": {},
   "source": [
    "Jupyter Notebook: Spotify Track Prediction Model by Joseph Kim (6-26-2024)\n",
    "Data taken from Kaggle"
   ]
  },
  {
   "cell_type": "code",
   "execution_count": null,
   "metadata": {},
   "outputs": [],
   "source": [
    "# begin by importing all packages\n",
    "import numpy as np\n",
    "import pandas as pd\n",
    "import matplotlib.pyplot as plt\n",
    "\n",
    "import tensorboard as tf\n",
    "import os \n",
    "\n",
    "import warnings\n",
    "warnings.filterwarnings('ignore')"
   ]
  },
  {
   "cell_type": "markdown",
   "metadata": {},
   "source": [
    "import the data in via os\n",
    "view the data imported in and put into pandas dataframes\n",
    "preprocessing (sklearn packages)\n",
    "    encoding to change explicit (false, true) into numerical values (0, 1)\n",
    "    scaling to scale the data to standardized values (difference in distribution between variables for separation of colors)\n",
    "use a correlation matrix and outlier plots\n",
    "supervised learning - classification model for genre, graph with nearest neighbors\n",
    "linear regression model for determining popularity\n",
    "\n",
    "unsupervised learning - dimensionality reduction for PCA, tSNE, UMAP\n",
    "clustering by 150 genres\n"
   ]
  },
  {
   "cell_type": "code",
   "execution_count": null,
   "metadata": {},
   "outputs": [],
   "source": []
  }
 ],
 "metadata": {
  "kernelspec": {
   "display_name": "base",
   "language": "python",
   "name": "python3"
  },
  "language_info": {
   "codemirror_mode": {
    "name": "ipython",
    "version": 3
   },
   "file_extension": ".py",
   "mimetype": "text/x-python",
   "name": "python",
   "nbconvert_exporter": "python",
   "pygments_lexer": "ipython3",
   "version": "3.11.9"
  }
 },
 "nbformat": 4,
 "nbformat_minor": 2
}
